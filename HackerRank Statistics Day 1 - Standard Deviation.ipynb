{
 "cells": [
  {
   "cell_type": "markdown",
   "id": "b657bd74",
   "metadata": {},
   "source": [
    "### Task\n",
    "\n",
    "Given an array, arr, of n integers, calculate and print the standard deviation. Your answer should be in decimal form, rounded to a scale of 1 decimal place (i.e., 12.3 format). An error margin of +-(0.1) will be tolerated for the standard deviation."
   ]
  },
  {
   "cell_type": "code",
   "execution_count": 1,
   "id": "3f84a921",
   "metadata": {},
   "outputs": [
    {
     "name": "stdout",
     "output_type": "stream",
     "text": [
      "5\n",
      "10 40 30 50 20\n",
      "14.1\n"
     ]
    }
   ],
   "source": [
    "#!/bin/python3\n",
    "\n",
    "import math\n",
    "import os\n",
    "import random\n",
    "import re\n",
    "import sys\n",
    "\n",
    "def stdDev(arr):\n",
    "    n = len(arr)\n",
    "    sum1 = sum(arr)\n",
    "    avg = sum1/n\n",
    "    \n",
    "    add = 0\n",
    "    for i in vals:\n",
    "        add = (i - avg)**2 + add\n",
    "\n",
    "    var = (add/n)**0.5\n",
    "    print(round(var,1))\n",
    "\n",
    "\n",
    "if __name__ == '__main__':\n",
    "    n = int(input().strip())\n",
    "\n",
    "    vals = list(map(int, input().rstrip().split()))\n",
    "\n",
    "    stdDev(vals)"
   ]
  },
  {
   "cell_type": "code",
   "execution_count": null,
   "id": "ecc9c680",
   "metadata": {},
   "outputs": [],
   "source": []
  }
 ],
 "metadata": {
  "kernelspec": {
   "display_name": "Python 3 (ipykernel)",
   "language": "python",
   "name": "python3"
  },
  "language_info": {
   "codemirror_mode": {
    "name": "ipython",
    "version": 3
   },
   "file_extension": ".py",
   "mimetype": "text/x-python",
   "name": "python",
   "nbconvert_exporter": "python",
   "pygments_lexer": "ipython3",
   "version": "3.10.9"
  }
 },
 "nbformat": 4,
 "nbformat_minor": 5
}
