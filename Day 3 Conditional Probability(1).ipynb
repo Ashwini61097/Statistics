{
 "cells": [
  {
   "cell_type": "markdown",
   "id": "531cabc6",
   "metadata": {},
   "source": [
    "### Task\n",
    "\n",
    "Suppose a family has 2 children, one of which is a boy. What is the probability that both children are boys?"
   ]
  },
  {
   "cell_type": "code",
   "execution_count": 1,
   "id": "096c984f",
   "metadata": {},
   "outputs": [
    {
     "name": "stdout",
     "output_type": "stream",
     "text": [
      "Sample space is: [('B', 'B'), ('B', 'G'), ('G', 'B')]\n",
      "\n",
      "Both are Boys [('B', 'B')]\n",
      "\n",
      "The probability that both children are boys: 0.33\n"
     ]
    }
   ],
   "source": [
    "from itertools import product\n",
    "\n",
    "def sample_space_one_boy(n):\n",
    "    genders = ['B', 'G']  # B represents boy, G represents girl\n",
    "    sample_space = list(product(genders, repeat=n))\n",
    "    \n",
    "    # Filter out the tuple ('G', 'G') where both children are girls\n",
    "    sample_space = [tup for tup in sample_space if tup != ('G', 'G')]\n",
    "    \n",
    "    return sample_space\n",
    "\n",
    "# Generate the sample space\n",
    "n_children = 2\n",
    "space = sample_space_one_boy(n_children)\n",
    "print(f'Sample space is: {space}\\n')\n",
    "\n",
    "# Filter out the tuple ('G', 'G') where both children are girls\n",
    "Both_Boys = [tup for tup in space if tup == ('B', 'B')]\n",
    "print(f'Both are Boys {Both_Boys}\\n')\n",
    "\n",
    "prob = len(Both_Boys)/len(space)\n",
    "print(f'The probability that both children are boys: {round(prob,2)}')"
   ]
  },
  {
   "cell_type": "code",
   "execution_count": null,
   "id": "7528c789",
   "metadata": {},
   "outputs": [],
   "source": []
  }
 ],
 "metadata": {
  "kernelspec": {
   "display_name": "Python 3 (ipykernel)",
   "language": "python",
   "name": "python3"
  },
  "language_info": {
   "codemirror_mode": {
    "name": "ipython",
    "version": 3
   },
   "file_extension": ".py",
   "mimetype": "text/x-python",
   "name": "python",
   "nbconvert_exporter": "python",
   "pygments_lexer": "ipython3",
   "version": "3.10.9"
  }
 },
 "nbformat": 4,
 "nbformat_minor": 5
}
