{
 "cells": [
  {
   "cell_type": "markdown",
   "id": "ca4e257f",
   "metadata": {},
   "source": [
    "### Task\n",
    "Given an array, X, of N integers, calculate and print the respective mean, median, and mode on separate lines. If your array contains more than one modal value, choose the numerically smallest one."
   ]
  },
  {
   "cell_type": "code",
   "execution_count": 2,
   "id": "d1133902",
   "metadata": {},
   "outputs": [
    {
     "name": "stdout",
     "output_type": "stream",
     "text": [
      "10\n",
      "64630 11735 14216 99233 14470 4978 73429 38120 51135 67060\n",
      "\n",
      "\n",
      "Output: \n",
      "43900.6\n",
      "44627.5\n",
      "4978\n"
     ]
    }
   ],
   "source": [
    "# Enter your code here. Read input from STDIN. Print output to STDOUT\n",
    "\n",
    "n = int(input())\n",
    "#x = input().split()\n",
    "x = [int(i) for i in input().split()]\n",
    "\n",
    "#n = 5\n",
    "#x = [ 1, 2, 3, 5, 5]\n",
    "\n",
    "s = 0\n",
    "\n",
    "for i in x:\n",
    "    s = s + int(i)\n",
    "    \n",
    "mean = float(s/n)\n",
    "y = sorted(x)\n",
    "\n",
    "if(n % 2 == 0):\n",
    "    j = int(n/2)\n",
    "    a = y[j] + y[j-1]\n",
    "    med = a/2\n",
    "else:\n",
    "    med = y[int(n/2)]\n",
    "    \n",
    "    \n",
    "\n",
    "my_dict = {int(item): x.count(item) for item in x}\n",
    "max_count = max(my_dict.values())\n",
    "mode = min(k for k, v in my_dict.items() if v == max_count)\n",
    "\n",
    "print(\"\\n\")\n",
    "print(\"Output: \")\n",
    "print(float(mean))\n",
    "print(float(med))\n",
    "print(mode)"
   ]
  }
 ],
 "metadata": {
  "kernelspec": {
   "display_name": "Python 3 (ipykernel)",
   "language": "python",
   "name": "python3"
  },
  "language_info": {
   "codemirror_mode": {
    "name": "ipython",
    "version": 3
   },
   "file_extension": ".py",
   "mimetype": "text/x-python",
   "name": "python",
   "nbconvert_exporter": "python",
   "pygments_lexer": "ipython3",
   "version": "3.10.9"
  }
 },
 "nbformat": 4,
 "nbformat_minor": 5
}
