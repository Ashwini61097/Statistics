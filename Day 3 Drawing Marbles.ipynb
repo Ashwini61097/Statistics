{
 "cells": [
  {
   "cell_type": "markdown",
   "id": "3a21c3cf",
   "metadata": {},
   "source": [
    "### Task\n",
    "A bag contains 3 red marbles and 4 blue marbles. Then, 2 marbles are drawn from the bag, at random, without replacement. If the first marble drawn is red, what is the probability that the second marble is blue?"
   ]
  },
  {
   "cell_type": "code",
   "execution_count": 1,
   "id": "57d46117",
   "metadata": {},
   "outputs": [
    {
     "name": "stdout",
     "output_type": "stream",
     "text": [
      "0.6666666666666666\n"
     ]
    }
   ],
   "source": [
    "lst, lst2 = list('rrrbbbb'), list('rrbbbb')\n",
    "S1, S2 = len(lst), len(lst2)\n",
    "A = len([i for i in lst if i == 'r'])\n",
    "B = len([i for i in lst2 if i == 'b'])\n",
    "\n",
    "prob_A = A / S1\n",
    "prob_B = B / S2\n",
    "\n",
    "prob_AandB = prob_A * prob_B\n",
    "prob_BgivenA = prob_AandB / prob_A\n",
    "print(prob_BgivenA)"
   ]
  },
  {
   "cell_type": "code",
   "execution_count": null,
   "id": "0245557f",
   "metadata": {},
   "outputs": [],
   "source": []
  }
 ],
 "metadata": {
  "kernelspec": {
   "display_name": "Python 3 (ipykernel)",
   "language": "python",
   "name": "python3"
  },
  "language_info": {
   "codemirror_mode": {
    "name": "ipython",
    "version": 3
   },
   "file_extension": ".py",
   "mimetype": "text/x-python",
   "name": "python",
   "nbconvert_exporter": "python",
   "pygments_lexer": "ipython3",
   "version": "3.10.9"
  }
 },
 "nbformat": 4,
 "nbformat_minor": 5
}
