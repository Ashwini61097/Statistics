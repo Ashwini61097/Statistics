{
 "cells": [
  {
   "cell_type": "markdown",
   "id": "c27d9c3b",
   "metadata": {},
   "source": [
    "## Task\n",
    "\n",
    "Given an array, arr, of n integers, calculate the respective first quartile (Q1), second quartile (Q2), and third quartile (Q3). It is guaranteed that Q1, Q2, and Q3 are integers. "
   ]
  },
  {
   "cell_type": "code",
   "execution_count": 1,
   "id": "ec8d4fce",
   "metadata": {},
   "outputs": [
    {
     "name": "stdout",
     "output_type": "stream",
     "text": [
      "9\n",
      "3 7 8 5 12 14 21 13 18\n",
      "Lower half: \n",
      "[3, 5, 7, 8]\n",
      "Upper half: \n",
      "[13, 14, 18, 21]\n",
      "Q1,Q2,Q3\n",
      "6.0\n",
      "12\n",
      "16.0\n"
     ]
    }
   ],
   "source": [
    "import math\n",
    "import os\n",
    "import random\n",
    "import re\n",
    "import sys\n",
    "\n",
    "def median(y, n):\n",
    "    if(n % 2 == 0):\n",
    "        j = int(n/2)\n",
    "        a = y[j] + y[j-1]\n",
    "        med = a/2\n",
    "    else:\n",
    "        med = y[int(n/2)]\n",
    "    \n",
    "    return(med)\n",
    "\n",
    "\n",
    "def quartiles(arr):\n",
    "    # Write your code here\n",
    "    #print(arr)\n",
    "    \n",
    "    B = arr[:len(arr)//2]\n",
    "    \n",
    "    C = arr[(len(arr)//2)+1:]\n",
    "    #D = arr[len(arr)//2]  ### Q2\n",
    "    D = median(arr, len(arr))\n",
    "    \n",
    "    print(\"Lower half: \")\n",
    "    print(B)\n",
    "    print(\"Upper half: \")\n",
    "    print(C)\n",
    "    print(\"Q1,Q2,Q3\")\n",
    "    \n",
    "    E = median(B, len(B))\n",
    "    F = median(C, len(C))\n",
    "    \n",
    "    \n",
    "    print(E)\n",
    "    print(D)\n",
    "    print(F)\n",
    "\n",
    "    \n",
    "if __name__ == '__main__':\n",
    "    #fptr = open(os.environ['OUTPUT_PATH'], 'w')\n",
    "\n",
    "    n = int(input().strip())\n",
    "\n",
    "    data = list(map(int, input().rstrip().split()))\n",
    "    \n",
    "    data = sorted(data)\n",
    "    res = quartiles(data)\n"
   ]
  },
  {
   "cell_type": "code",
   "execution_count": null,
   "id": "b3bb55f6",
   "metadata": {},
   "outputs": [],
   "source": []
  }
 ],
 "metadata": {
  "kernelspec": {
   "display_name": "Python 3 (ipykernel)",
   "language": "python",
   "name": "python3"
  },
  "language_info": {
   "codemirror_mode": {
    "name": "ipython",
    "version": 3
   },
   "file_extension": ".py",
   "mimetype": "text/x-python",
   "name": "python",
   "nbconvert_exporter": "python",
   "pygments_lexer": "ipython3",
   "version": "3.10.9"
  }
 },
 "nbformat": 4,
 "nbformat_minor": 5
}
