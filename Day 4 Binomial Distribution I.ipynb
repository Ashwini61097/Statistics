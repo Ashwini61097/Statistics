{
 "cells": [
  {
   "cell_type": "markdown",
   "id": "6d0047d1",
   "metadata": {},
   "source": [
    "### Task\n",
    "\n",
    "The ratio of boys to girls for babies born in Russia is 1.09:1. If there is 1 child born per birth, what proportion of Russian families with exactly 6 children will have at least 3 boys?\n",
    "\n",
    "Write a program to compute the answer using the above parameters. Then print your result, rounded to a scale of 3 decimal places (i.e. 1.234, format)."
   ]
  },
  {
   "cell_type": "code",
   "execution_count": 3,
   "id": "973777a3",
   "metadata": {},
   "outputs": [
    {
     "name": "stdout",
     "output_type": "stream",
     "text": [
      "1.09 1\n",
      "0.696\n"
     ]
    }
   ],
   "source": [
    "import math\n",
    "\n",
    "ratio_boy, ratio_girl = map(float, input().split(' '))\n",
    "\n",
    "# ratio_boy = 1.09\n",
    "# ratio_girl = 1\n",
    "\n",
    "p_boy = ratio_boy / (ratio_boy + ratio_girl)\n",
    "\n",
    "k = 3\n",
    "n = 6\n",
    "result = 0\n",
    "for i in range(3, 7):\n",
    "    comb = math.factorial(n) / (math.factorial(i) * math.factorial(n-i))\n",
    "    result += comb * pow(p_boy, i) * pow(1 - p_boy, n - i)\n",
    "print(round(result, 3))"
   ]
  },
  {
   "cell_type": "markdown",
   "id": "43afbbc6",
   "metadata": {},
   "source": [
    "### Task\n",
    "\n",
    "A manufacturer of metal pistons finds that, on average, 12% of the pistons they manufacture are rejected because they are incorrectly sized. What is the probability that a batch of 10% pistons will contain:\n",
    "\n",
    "1. No more than 2 rejects?\n",
    "2. At least 2 rejects?"
   ]
  },
  {
   "cell_type": "code",
   "execution_count": null,
   "id": "7f4b876e",
   "metadata": {},
   "outputs": [],
   "source": []
  }
 ],
 "metadata": {
  "kernelspec": {
   "display_name": "Python 3 (ipykernel)",
   "language": "python",
   "name": "python3"
  },
  "language_info": {
   "codemirror_mode": {
    "name": "ipython",
    "version": 3
   },
   "file_extension": ".py",
   "mimetype": "text/x-python",
   "name": "python",
   "nbconvert_exporter": "python",
   "pygments_lexer": "ipython3",
   "version": "3.10.9"
  }
 },
 "nbformat": 4,
 "nbformat_minor": 5
}
