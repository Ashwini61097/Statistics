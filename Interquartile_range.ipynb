{
 "cells": [
  {
   "cell_type": "markdown",
   "id": "3d4250e0",
   "metadata": {},
   "source": [
    "## 10 Days of Statistics: Day 1: Interquartile Range"
   ]
  },
  {
   "cell_type": "markdown",
   "id": "204b57bf",
   "metadata": {},
   "source": [
    "The interquartile range of an array is the difference between its first (Q1) and third (Q3) quartiles (i.e. Q3 - Q1)"
   ]
  },
  {
   "cell_type": "code",
   "execution_count": 1,
   "id": "d123c979",
   "metadata": {},
   "outputs": [
    {
     "name": "stdout",
     "output_type": "stream",
     "text": [
      "5\n",
      "10 40 30 50 20\n",
      "1 2 3 4 5\n",
      "Expanded array: [10, 20, 20, 20, 20, 20, 30, 30, 30, 40, 40, 50, 50, 50, 50]\n",
      "Median of Expanded array: 30\n",
      "first_half array: [10, 20, 20, 20, 20, 20, 30]\n",
      "second_half array: [30, 30, 40, 40, 50, 50, 50, 50]\n",
      "Median of first_half array: 20\n",
      "Median of second_half array: 45.0\n",
      "Interquartile range of an array : 25.0\n"
     ]
    }
   ],
   "source": [
    "#!/bin/python3\n",
    "\n",
    "import math\n",
    "import os\n",
    "import random\n",
    "import re\n",
    "import sys\n",
    "import itertools\n",
    "import statistics\n",
    "\n",
    "def interQuartile(values, freqs):\n",
    "    # Print your answer to 1 decimal place within this function\n",
    "    # using itertools.chain.from_iterable()\n",
    "    # + itertools.repeat() repeat elements K times\n",
    "    res = list(itertools.chain.from_iterable(itertools.repeat(i, k)\n",
    "    for i, k in zip(val, freq)))\n",
    "    res = sorted(res)\n",
    "    print(f\"Expanded array: {res}\")\n",
    "\n",
    "    q2 = statistics.median(res)\n",
    "    print(f\"Median of Expanded array: {q2}\")\n",
    "\n",
    "    index = int(len(res)/2)\n",
    "    first_half = res [:index]\n",
    "    second_half = res [index:]\n",
    "\n",
    "    print(f\"first_half array: {first_half}\")\n",
    "    print(f\"second_half array: {second_half}\")\n",
    "\n",
    "    q1 = statistics.median(first_half)\n",
    "    print(f\"Median of first_half array: {q1}\")\n",
    "\n",
    "    q3 = statistics.median(second_half)\n",
    "    print(f\"Median of second_half array: {q3}\")\n",
    "    \n",
    "    # The interquartile range of an array is the difference between its Q1 and Q3. \n",
    "    q = round((q3 - q1), 1)\n",
    "    # print(q)\n",
    "    \n",
    "    return (f\"Interquartile range of an array : {q}\") \n",
    "\n",
    "if __name__ == '__main__':\n",
    "    n = int(input().strip())\n",
    "\n",
    "    val = list(map(int, input().rstrip().split()))\n",
    "\n",
    "    freq = list(map(int, input().rstrip().split()))\n",
    "\n",
    "    print((interQuartile(val, freq)))\n"
   ]
  },
  {
   "cell_type": "code",
   "execution_count": null,
   "id": "816a1eb4",
   "metadata": {},
   "outputs": [],
   "source": []
  }
 ],
 "metadata": {
  "kernelspec": {
   "display_name": "Python 3 (ipykernel)",
   "language": "python",
   "name": "python3"
  },
  "language_info": {
   "codemirror_mode": {
    "name": "ipython",
    "version": 3
   },
   "file_extension": ".py",
   "mimetype": "text/x-python",
   "name": "python",
   "nbconvert_exporter": "python",
   "pygments_lexer": "ipython3",
   "version": "3.10.9"
  }
 },
 "nbformat": 4,
 "nbformat_minor": 5
}
