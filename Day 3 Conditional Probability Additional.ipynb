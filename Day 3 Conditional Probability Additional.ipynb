{
 "cells": [
  {
   "cell_type": "markdown",
   "id": "4261bf9a",
   "metadata": {},
   "source": [
    "## Task 1\n",
    "\n",
    "In a single toss of 2 fair (evenly-weighted) six-sided dice, find the probability that their sum will be at most 9."
   ]
  },
  {
   "cell_type": "code",
   "execution_count": 1,
   "id": "148adf98",
   "metadata": {},
   "outputs": [
    {
     "name": "stdout",
     "output_type": "stream",
     "text": [
      "Dice combinations are [(1, 1), (1, 2), (1, 3), (1, 4), (1, 5), (1, 6), (2, 1), (2, 2), (2, 3), (2, 4), (2, 5), (2, 6), (3, 1), (3, 2), (3, 3), (3, 4), (3, 5), (3, 6), (4, 1), (4, 2), (4, 3), (4, 4), (4, 5), (4, 6), (5, 1), (5, 2), (5, 3), (5, 4), (5, 5), (5, 6), (6, 1), (6, 2), (6, 3), (6, 4), (6, 5), (6, 6)]\n",
      "\n",
      "Dice combinations whose sum is 9: [(1, 1), (1, 2), (1, 3), (1, 4), (1, 5), (1, 6), (2, 1), (2, 2), (2, 3), (2, 4), (2, 5), (2, 6), (3, 1), (3, 2), (3, 3), (3, 4), (3, 5), (3, 6), (4, 1), (4, 2), (4, 3), (4, 4), (4, 5), (5, 1), (5, 2), (5, 3), (5, 4), (6, 1), (6, 2), (6, 3)]\n",
      "\n",
      "Probability that sum will be at most 9 is 0.83\n"
     ]
    }
   ],
   "source": [
    "from itertools import product\n",
    "\n",
    "def sample_space_dice(n):\n",
    "    die_outcomes = [1, 2, 3, 4, 5, 6]  # Dice output\n",
    "    sample_space = list(product(die_outcomes, repeat=n))\n",
    "    return sample_space\n",
    "\n",
    "def sum_of_dice_outcomes(space):\n",
    "    return [sum(outcome) for outcome in space]\n",
    "\n",
    "def filter_sum(space, target_sum):\n",
    "    return [outcome for outcome in space if sum(outcome) <= target_sum]\n",
    "\n",
    "# Generate the sample space\n",
    "n = 2\n",
    "space = sample_space_dice(n)\n",
    "print(f\"Dice combinations are {space}\\n\")\n",
    "\n",
    "\n",
    "# Calculate the sum of dice outcomes\n",
    "sums = sum_of_dice_outcomes(space)\n",
    "# print(f\"Sums of the outcomes: {sums}\\n\")\n",
    "\n",
    "# Filter dice combinations whose sum is 9\n",
    "target_sum = 9\n",
    "filtered_combinations = filter_sum(space, target_sum)\n",
    "print(f\"Dice combinations whose sum is {target_sum}: {filtered_combinations}\\n\")\n",
    "\n",
    "# Calculate the total number of outcomes\n",
    "total_outcomes = len(space)\n",
    "# print(f\"Total number of outcomes: {total_outcomes}\\n\")\n",
    "\n",
    "prob = len(filtered_combinations)/len(space)\n",
    "print(f'Probability that sum will be at most 9 is {round(prob, 2)}')"
   ]
  },
  {
   "cell_type": "markdown",
   "id": "f040bfe4",
   "metadata": {},
   "source": [
    "## Task 2\n",
    "\n",
    "In a single toss of 2 fair (evenly-weighted) six-sided dice, find the probability that the values rolled by each die will be different and the two dice have a sum of 6. "
   ]
  },
  {
   "cell_type": "code",
   "execution_count": 2,
   "id": "3fe245e4",
   "metadata": {},
   "outputs": [
    {
     "name": "stdout",
     "output_type": "stream",
     "text": [
      "Dice combinations are [(1, 1), (1, 2), (1, 3), (1, 4), (1, 5), (1, 6), (2, 1), (2, 2), (2, 3), (2, 4), (2, 5), (2, 6), (3, 1), (3, 2), (3, 3), (3, 4), (3, 5), (3, 6), (4, 1), (4, 2), (4, 3), (4, 4), (4, 5), (4, 6), (5, 1), (5, 2), (5, 3), (5, 4), (5, 5), (5, 6), (6, 1), (6, 2), (6, 3), (6, 4), (6, 5), (6, 6)]\n",
      "\n",
      "Dice combinations whose sum is 6: [(1, 5), (2, 4), (4, 2), (5, 1)]\n",
      "\n",
      "Probability that sum is 6 and dice have different outcomes is 0.11\n"
     ]
    }
   ],
   "source": [
    "from itertools import product\n",
    "\n",
    "def sample_space_dice(n):\n",
    "    die_outcomes = [1, 2, 3, 4, 5, 6]  # Dice output\n",
    "    sample_space = list(product(die_outcomes, repeat=n))\n",
    "    return sample_space\n",
    "\n",
    "def sum_of_dice_outcomes(space):\n",
    "    return [sum(outcome) for outcome in space]\n",
    "\n",
    "def filter_sum(space, target_sum):\n",
    "    return [outcome for outcome in space if (sum(outcome) == target_sum and outcome[0] != outcome[1])]\n",
    "\n",
    "# Generate the sample space\n",
    "n = 2\n",
    "space = sample_space_dice(n)\n",
    "print(f\"Dice combinations are {space}\\n\")\n",
    "\n",
    "\n",
    "# Calculate the sum of dice outcomes\n",
    "sums = sum_of_dice_outcomes(space)\n",
    "# print(f\"Sums of the outcomes: {sums}\\n\")\n",
    "\n",
    "# Filter dice combinations whose sum is 9\n",
    "target_sum = 6\n",
    "filtered_combinations = filter_sum(space, target_sum)\n",
    "print(f\"Dice combinations whose sum is {target_sum}: {filtered_combinations}\\n\")\n",
    "\n",
    "# Calculate the total number of outcomes\n",
    "total_outcomes = len(space)\n",
    "# print(f\"Total number of outcomes: {total_outcomes}\\n\")\n",
    "\n",
    "prob = len(filtered_combinations)/len(space)\n",
    "print(f'Probability that sum is 6 and dice have different outcomes is {round(prob, 2)}')"
   ]
  },
  {
   "cell_type": "markdown",
   "id": "296cadbf",
   "metadata": {},
   "source": [
    "## Task 3 : Probability while tossing two coins simultaneously "
   ]
  },
  {
   "cell_type": "code",
   "execution_count": 3,
   "id": "d14c1e31",
   "metadata": {},
   "outputs": [
    {
     "name": "stdout",
     "output_type": "stream",
     "text": [
      "Sample space when two coins are tossed at simultaneously : [('H', 'H'), ('H', 'T'), ('T', 'H'), ('T', 'T')]\n",
      "\n",
      "Filtered space with at least one head: [('H', 'H'), ('H', 'T'), ('T', 'H')]\n",
      "\n",
      "Filtered space with at least one tail: [('H', 'T'), ('T', 'H'), ('T', 'T')]\n",
      "\n",
      "Filtered space with both heads: [('H', 'H')]\n",
      "\n",
      "Filtered space with both tails: [('T', 'T')]\n",
      "\n",
      "Probability of getting at least one head is 0.75\n",
      "\n",
      "Probability of getting at least one tail is 0.75\n",
      "\n",
      "Probability of getting both heads is 0.25\n",
      "\n",
      "Probability of getting both tails is 0.25\n",
      "\n"
     ]
    }
   ],
   "source": [
    "from itertools import product\n",
    "\n",
    "def sample_space_multi_coins(n):\n",
    "    toss_side = ['H', 'T']  # Coin output\n",
    "    sample_space = list(product(toss_side, repeat=n))\n",
    "    return sample_space\n",
    "\n",
    "def filter_at_least_one_head(space):\n",
    "    return [outcome for outcome in space if 'H' in outcome]\n",
    "\n",
    "def filter_at_least_one_tail(space):\n",
    "    return [outcome for outcome in space if 'T' in outcome]\n",
    "\n",
    "def filter_both_heads(space):\n",
    "    return [outcome for outcome in space if outcome[0] == outcome[1] == 'H']\n",
    "    \n",
    "def filter_both_tails(space):\n",
    "    return [outcome for outcome in space if outcome[0] == outcome[1] == 'T']\n",
    "    \n",
    "    \n",
    "\n",
    "# Generate the sample space\n",
    "n = 2\n",
    "space = sample_space_multi_coins(n)\n",
    "print(f'Sample space when two coins are tossed at simultaneously : {space}\\n')\n",
    "\n",
    "# Filter the sample space to include only combinations with at least one head\n",
    "filtered_space_at_least_head = filter_at_least_one_head(space)\n",
    "# Print the filtered sample space\n",
    "print(f\"Filtered space with at least one head: {filtered_space_at_least_head}\\n\")\n",
    "\n",
    "# Filter the sample space to include only combinations with at least one tail\n",
    "filtered_space_at_least_tail = filter_at_least_one_tail(space)\n",
    "# Print the filtered sample space\n",
    "print(f\"Filtered space with at least one tail: {filtered_space_at_least_tail}\\n\")\n",
    "\n",
    "# Filter the sample space to include only combinations with both head\n",
    "filtered_space_heads = filter_both_heads(space)\n",
    "# Print the filtered sample space\n",
    "print(f\"Filtered space with both heads: {filtered_space_heads}\\n\")\n",
    "\n",
    "# Filter the sample space to include only combinations with both tail\n",
    "filtered_space_tails = filter_both_tails(space)\n",
    "# Print the filtered sample space\n",
    "print(f\"Filtered space with both tails: {filtered_space_tails}\\n\")\n",
    "\n",
    "# probability of getting at least one head\n",
    "prob_at_least_head = len(filtered_space_at_least_head)/len(space)\n",
    "\n",
    "# probability of getting at least one tail\n",
    "prob_at_least_tail = len(filtered_space_at_least_tail)/len(space)\n",
    "\n",
    "# probability of getting both heads\n",
    "prob_both_head = len(filtered_space_heads)/len(space)\n",
    "\n",
    "# probability of getting both tails\n",
    "prob_both_tail = len(filtered_space_tails)/len(space)\n",
    "\n",
    "print(f'Probability of getting at least one head is {prob_at_least_head}\\n')\n",
    "print(f'Probability of getting at least one tail is {prob_at_least_tail}\\n')\n",
    "print(f'Probability of getting both heads is {prob_both_head}\\n')\n",
    "print(f'Probability of getting both tails is {prob_both_tail}\\n')"
   ]
  },
  {
   "cell_type": "code",
   "execution_count": null,
   "id": "31f54a36",
   "metadata": {},
   "outputs": [],
   "source": []
  }
 ],
 "metadata": {
  "kernelspec": {
   "display_name": "Python 3 (ipykernel)",
   "language": "python",
   "name": "python3"
  },
  "language_info": {
   "codemirror_mode": {
    "name": "ipython",
    "version": 3
   },
   "file_extension": ".py",
   "mimetype": "text/x-python",
   "name": "python",
   "nbconvert_exporter": "python",
   "pygments_lexer": "ipython3",
   "version": "3.10.9"
  }
 },
 "nbformat": 4,
 "nbformat_minor": 5
}
