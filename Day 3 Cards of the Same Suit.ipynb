{
 "cells": [
  {
   "cell_type": "markdown",
   "id": "dd7401c7",
   "metadata": {},
   "source": [
    "### Task\n",
    "You draw 2 cards from a standard 52-card deck without replacing them. What is the probability that both cards are of the same suit?"
   ]
  },
  {
   "cell_type": "code",
   "execution_count": 1,
   "id": "64e8fa91",
   "metadata": {},
   "outputs": [
    {
     "name": "stdout",
     "output_type": "stream",
     "text": [
      "Sample space is: 1326\n",
      "\n",
      "The probability that both cards are of the same suit is approximately 0.2353\n"
     ]
    }
   ],
   "source": [
    "from itertools import combinations\n",
    "\n",
    "def sample_space_deck():\n",
    "    deck = [\n",
    "        '2H', '3H', '4H', '5H', '6H', '7H', '8H', '9H', '10H', 'JH', 'QH', 'KH', 'AH',\n",
    "        '2D', '3D', '4D', '5D', '6D', '7D', '8D', '9D', '10D', 'JD', 'QD', 'KD', 'AD',\n",
    "        '2C', '3C', '4C', '5C', '6C', '7C', '8C', '9C', '10C', 'JC', 'QC', 'KC', 'AC',\n",
    "        '2S', '3S', '4S', '5S', '6S', '7S', '8S', '9S', '10S', 'JS', 'QS', 'KS', 'AS'\n",
    "    ]  # Standard 52-card deck\n",
    "\n",
    "    sample_space = list(combinations(deck, 2))\n",
    "    return sample_space\n",
    "\n",
    "def filter_same_suit(space):\n",
    "    return [outcome for outcome in space if outcome[0][-1] == outcome[1][-1]]\n",
    "\n",
    "\n",
    "# Generate the sample space\n",
    "space = sample_space_deck()\n",
    "\n",
    "# Print the sample space\n",
    "print(f'Sample space is: {len(space)}\\n')\n",
    "\n",
    "# Filter the sample space to include only combinations where both cards are of the same suit\n",
    "same_suit_space = filter_same_suit(space)\n",
    "\n",
    "# Calculate the probability\n",
    "total_outcomes = len(space)\n",
    "favorable_outcomes = len(same_suit_space)\n",
    "probability = favorable_outcomes / total_outcomes\n",
    "\n",
    "print(f\"The probability that both cards are of the same suit is approximately {probability:.4f}\")"
   ]
  },
  {
   "cell_type": "code",
   "execution_count": 4,
   "id": "e0baeecb",
   "metadata": {},
   "outputs": [
    {
     "data": {
      "text/plain": [
       "0.23529411764705882"
      ]
     },
     "execution_count": 4,
     "metadata": {},
     "output_type": "execute_result"
    }
   ],
   "source": [
    "12/51"
   ]
  },
  {
   "cell_type": "code",
   "execution_count": null,
   "id": "05d8c251",
   "metadata": {},
   "outputs": [],
   "source": []
  }
 ],
 "metadata": {
  "kernelspec": {
   "display_name": "Python 3 (ipykernel)",
   "language": "python",
   "name": "python3"
  },
  "language_info": {
   "codemirror_mode": {
    "name": "ipython",
    "version": 3
   },
   "file_extension": ".py",
   "mimetype": "text/x-python",
   "name": "python",
   "nbconvert_exporter": "python",
   "pygments_lexer": "ipython3",
   "version": "3.10.9"
  }
 },
 "nbformat": 4,
 "nbformat_minor": 5
}
