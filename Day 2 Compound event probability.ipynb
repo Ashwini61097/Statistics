{
 "cells": [
  {
   "cell_type": "markdown",
   "id": "fce603b9",
   "metadata": {},
   "source": [
    "## Task\n",
    "\n",
    "There are 3 urns labeled X, Y , and Z .\n",
    "\n",
    "Urn X contains 4 red balls and 3 black balls.\n",
    "Urn Y contains 5 red balls and 4 black balls.\n",
    "Urn Z contains 4 red balls and 4 black balls.\n",
    "\n",
    "One ball is drawn from each of the 3 urns. What is the probability that, of the 3 balls drawn, 2 are red and 1 is black?"
   ]
  },
  {
   "cell_type": "code",
   "execution_count": 13,
   "id": "4a57d9cd",
   "metadata": {},
   "outputs": [
    {
     "name": "stdout",
     "output_type": "stream",
     "text": [
      "17/42\n"
     ]
    }
   ],
   "source": [
    "from collections import Counter\n",
    "from enum import Enum\n",
    "from itertools import product\n",
    "\n",
    "from sympy import symbols\n",
    "\n",
    "Ball = Enum(\"Ball\", \"RED BLACK\")\n",
    "\n",
    "\n",
    "def want(d):\n",
    "    c = Counter(d)\n",
    "    return Counter(d)[Ball.RED] == 2 and c[Ball.BLACK] == 1\n",
    "\n",
    "\n",
    "draws = list(\n",
    "    product(\n",
    "        [Ball.RED] * 4 + [Ball.BLACK] * 3,\n",
    "        [Ball.RED] * 5 + [Ball.BLACK] * 4,\n",
    "        [Ball.RED] * 4 + [Ball.BLACK] * 4,\n",
    "    )\n",
    ")\n",
    "\n",
    "matches = list(filter(want, draws))\n",
    "n, N = symbols(\"n N\")\n",
    "probability = n / N\n",
    "print(probability.subs(n, len(matches)).subs(N, len(draws)))"
   ]
  },
  {
   "cell_type": "code",
   "execution_count": null,
   "id": "f9414a4b",
   "metadata": {},
   "outputs": [],
   "source": []
  }
 ],
 "metadata": {
  "kernelspec": {
   "display_name": "Python 3 (ipykernel)",
   "language": "python",
   "name": "python3"
  },
  "language_info": {
   "codemirror_mode": {
    "name": "ipython",
    "version": 3
   },
   "file_extension": ".py",
   "mimetype": "text/x-python",
   "name": "python",
   "nbconvert_exporter": "python",
   "pygments_lexer": "ipython3",
   "version": "3.10.9"
  }
 },
 "nbformat": 4,
 "nbformat_minor": 5
}
